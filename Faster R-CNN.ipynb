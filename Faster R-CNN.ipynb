{
  "cells": [
    {
      "cell_type": "code",
      "execution_count": 1,
      "metadata": {
        "id": "XWUBxeGFoecd"
      },
      "outputs": [],
      "source": [
        "import torch\n",
        "from torchvision import datasets, transforms\n",
        "from torchvision.models.detection import fasterrcnn_resnet50_fpn\n",
        "from torch.utils.data import DataLoader\n",
        "from torchvision.models.detection.faster_rcnn import FastRCNNPredictor"
      ]
    },
    {
      "cell_type": "code",
      "execution_count": 2,
      "metadata": {
        "colab": {
          "base_uri": "https://localhost:8080/"
        },
        "id": "i8fmeekaorP2",
        "outputId": "f27d914e-5ab9-440c-8b42-b2d6dca2e464"
      },
      "outputs": [
        {
          "name": "stderr",
          "output_type": "stream",
          "text": [
            "c:\\Users\\DELL\\AppData\\Local\\Programs\\Python\\Python311\\Lib\\site-packages\\torchvision\\models\\_utils.py:208: UserWarning: The parameter 'pretrained' is deprecated since 0.13 and may be removed in the future, please use 'weights' instead.\n",
            "  warnings.warn(\n",
            "c:\\Users\\DELL\\AppData\\Local\\Programs\\Python\\Python311\\Lib\\site-packages\\torchvision\\models\\_utils.py:223: UserWarning: Arguments other than a weight enum or `None` for 'weights' are deprecated since 0.13 and may be removed in the future. The current behavior is equivalent to passing `weights=FasterRCNN_ResNet50_FPN_Weights.COCO_V1`. You can also use `weights=FasterRCNN_ResNet50_FPN_Weights.DEFAULT` to get the most up-to-date weights.\n",
            "  warnings.warn(msg)\n"
          ]
        }
      ],
      "source": [
        "# Define the Faster R-CNN architecture\n",
        "model = fasterrcnn_resnet50_fpn(pretrained=True)\n",
        "\n",
        "# Modify the roi_heads module to return 2 values\n",
        "in_features = model.roi_heads.box_predictor.cls_score.in_features\n",
        "num_classes = 10  # MNIST has 10 classes\n",
        "model.roi_heads.box_predictor = FastRCNNPredictor(in_features, num_classes + 1)  # +1 for the background class\n"
      ]
    },
    {
      "cell_type": "code",
      "execution_count": 4,
      "metadata": {
        "colab": {
          "base_uri": "https://localhost:8080/"
        },
        "id": "-r3RyQ56pJEV",
        "outputId": "7883c9c4-583f-417a-bfeb-7b00ce3b26cf"
      },
      "outputs": [],
      "source": [
        "# Preprocess the MNIST dataset\n",
        "transform = transforms.Compose([\n",
        "    transforms.Resize((300, 300)),\n",
        "    transforms.ToTensor(),\n",
        "])\n",
        "\n",
        "trainset = datasets.MNIST(root=\"./data\", train=True, download=True, transform=transform)\n",
        "testset = datasets.MNIST(root=\"./data\", train=False, download=True, transform=transform)\n",
        "\n",
        "trainloader = DataLoader(trainset, batch_size=4, shuffle=True)\n",
        "testloader = DataLoader(testset, batch_size=4, shuffle=False)\n"
      ]
    },
    {
      "cell_type": "code",
      "execution_count": 5,
      "metadata": {
        "colab": {
          "base_uri": "https://localhost:8080/"
        },
        "id": "70l3nbvKwbBg",
        "outputId": "91efafdb-f673-4ea6-ddc5-4dc59f56fb51"
      },
      "outputs": [
        {
          "name": "stdout",
          "output_type": "stream",
          "text": [
            "Epoch 1/5 complete.\n",
            "Epoch 2/5 complete.\n",
            "Epoch 3/5 complete.\n",
            "Epoch 4/5 complete.\n",
            "Epoch 5/5 complete.\n",
            "Classifier training complete.\n"
          ]
        }
      ],
      "source": [
        "# Train the Faster R-CNN model\n",
        "device = torch.device(\"cuda\" if torch.cuda.is_available() else \"cpu\")\n",
        "model.to(device)\n",
        "\n",
        "optimizer = torch.optim.SGD(model.parameters(), lr=0.005, momentum=0.9)\n",
        "num_epochs = 5\n",
        "\n",
        "for epoch in range(num_epochs):\n",
        "    model.train()\n",
        "    for images, targets in trainloader:\n",
        "        images = [img.to(device) for img in images]\n",
        "\n",
        "        targets_list = []\n",
        "        for target in targets:\n",
        "            if isinstance(target, dict) and \"boxes\" in target and \"labels\" in target:\n",
        "                target_dict = {\n",
        "                    \"boxes\": target[\"boxes\"].to(device),\n",
        "                    \"labels\": target[\"labels\"].to(device)\n",
        "                }\n",
        "                targets_list.append(target_dict)\n",
        "\n",
        "        if len(targets_list) > 0:\n",
        "            optimizer.zero_grad()\n",
        "            loss_dict = model(images, targets_list)\n",
        "            losses = sum(loss for loss in loss_dict.values())\n",
        "            losses.backward()\n",
        "            optimizer.step()\n",
        "\n",
        "    print(f\"Epoch {epoch + 1}/{num_epochs} complete.\")\n",
        "\n",
        "print(\"Classifier training complete.\")\n"
      ]
    },
    {
      "cell_type": "code",
      "execution_count": null,
      "metadata": {
        "id": "zmnbIZ0jxKMk"
      },
      "outputs": [],
      "source": [
        "model.eval()\n",
        "\n",
        "all_labels = []\n",
        "all_predictions = []\n",
        "\n",
        "with torch.no_grad():\n",
        "    for images, targets in testloader:\n",
        "        images = [img.to(device) for img in images]\n",
        "\n",
        "        outputs = model(images)\n",
        "\n",
        "        # Assume targets are tensors\n",
        "        for output, target in zip(outputs, targets):\n",
        "            if target.ndim > 0:\n",
        "                _, predicted = torch.max(output[\"labels\"], -1)\n",
        "                all_labels.extend(target.cpu().numpy())\n",
        "                all_predictions.extend(predicted.cpu().numpy())\n",
        "\n",
        "\n",
        "# Calculate accuracy\n",
        "correct = sum(1 for true, pred in zip(all_labels, all_predictions) if true == pred)\n",
        "total = len(all_labels)\n",
        "accuracy = correct / total\n",
        "print(f'Accuracy on test set: {accuracy * 100:.2f}%')\n"
      ]
    },
    {
      "cell_type": "code",
      "execution_count": null,
      "metadata": {
        "id": "mXxDUayrxPxj"
      },
      "outputs": [],
      "source": [
        "from sklearn.metrics import f1_score\n",
        "import torch.nn as nn\n",
        "# Assuming you have already trained the network and have a trained model 'model'\n",
        "model.eval()\n",
        "\n",
        "# prepare to count predictions for each class\n",
        "correct_pred = {classname: 0 for classname in range(10)}  # Assuming you have 10 classes (for MNIST)\n",
        "total_pred = {classname: 0 for classname in range(10)}\n",
        "\n",
        "# Initialize variables for F1 score calculation\n",
        "all_labels = []\n",
        "all_predictions = []\n",
        "\n",
        "# Initialize variables for loss calculation\n",
        "criterion = nn.CrossEntropyLoss()\n",
        "test_loss = 0.0\n",
        "total_samples = 0\n",
        "\n",
        "with torch.no_grad():\n",
        "    for images, targets in testloader:\n",
        "        images = [img.to(device) for img in images]\n",
        "\n",
        "        outputs = model(images)\n",
        "\n",
        "        # Assume targets are tensors\n",
        "        for output, target in zip(outputs, targets):\n",
        "            if target[\"labels\"].ndim > 0:\n",
        "                _, predicted = torch.max(output[\"labels\"], -1)\n",
        "\n",
        "                # Calculate loss\n",
        "                loss = criterion(output[\"labels\"], target[\"labels\"])\n",
        "                test_loss += loss.item()\n",
        "                total_samples += target[\"labels\"].size(0)\n",
        "\n",
        "                # collect the correct predictions for each class\n",
        "                for label, prediction in zip(target[\"labels\"], predicted):\n",
        "                    if label == prediction:\n",
        "                        correct_pred[label.item()] += 1\n",
        "                    total_pred[label.item()] += 1\n",
        "\n",
        "                # collect labels and predictions for F1 score calculation\n",
        "                all_labels.extend(target[\"labels\"].cpu().numpy())\n",
        "                all_predictions.extend(predicted.cpu().numpy())\n",
        "\n",
        "# Calculate F1 score\n",
        "f1 = f1_score(all_labels, all_predictions, average='weighted')\n",
        "\n",
        "# Calculate average test loss\n",
        "average_test_loss = test_loss / (total_samples / testloader.batch_size)\n",
        "\n",
        "# Print accuracy, F1 score, and loss\n",
        "for classname, correct_count in correct_pred.items():\n",
        "    accuracy = 100 * float(correct_count) / total_pred[classname]\n",
        "    print(f'Accuracy for class {classname} is {accuracy:.1f}%')\n",
        "\n",
        "print(f'Weighted F1 score: {f1:.4f}')\n",
        "print(f'Average Test Loss: {average_test_loss:.4f}')"
      ]
    },
    {
      "cell_type": "code",
      "execution_count": null,
      "metadata": {
        "id": "37dfBrdqxSZL"
      },
      "outputs": [],
      "source": []
    }
  ],
  "metadata": {
    "colab": {
      "provenance": []
    },
    "kernelspec": {
      "display_name": "Python 3",
      "name": "python3"
    },
    "language_info": {
      "codemirror_mode": {
        "name": "ipython",
        "version": 3
      },
      "file_extension": ".py",
      "mimetype": "text/x-python",
      "name": "python",
      "nbconvert_exporter": "python",
      "pygments_lexer": "ipython3",
      "version": "3.11.3"
    }
  },
  "nbformat": 4,
  "nbformat_minor": 0
}
